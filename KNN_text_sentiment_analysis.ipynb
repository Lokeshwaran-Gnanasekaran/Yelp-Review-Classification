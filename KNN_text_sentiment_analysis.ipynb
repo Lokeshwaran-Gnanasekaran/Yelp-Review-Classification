{
 "cells": [
  {
   "cell_type": "code",
   "execution_count": 26,
   "id": "078dce37",
   "metadata": {},
   "outputs": [
    {
     "name": "stderr",
     "output_type": "stream",
     "text": [
      "[nltk_data] Downloading package punkt to\n",
      "[nltk_data]     /Users/lokeshwaran/nltk_data...\n",
      "[nltk_data]   Package punkt is already up-to-date!\n",
      "[nltk_data] Downloading package wordnet to\n",
      "[nltk_data]     /Users/lokeshwaran/nltk_data...\n",
      "[nltk_data]   Package wordnet is already up-to-date!\n",
      "[nltk_data] Downloading package stopwords to\n",
      "[nltk_data]     /Users/lokeshwaran/nltk_data...\n",
      "[nltk_data]   Package stopwords is already up-to-date!\n"
     ]
    },
    {
     "data": {
      "text/plain": [
       "True"
      ]
     },
     "execution_count": 26,
     "metadata": {},
     "output_type": "execute_result"
    }
   ],
   "source": [
    "import pandas as pd\n",
    "import numpy as np\n",
    "import nltk\n",
    "import re\n",
    "from nltk.stem import WordNetLemmatizer\n",
    "from nltk.tokenize import word_tokenize\n",
    "from nltk.corpus import stopwords\n",
    "from sklearn.feature_extraction.text import TfidfTransformer\n",
    "from sklearn.feature_extraction.text import CountVectorizer\n",
    "from sklearn.utils import shuffle\n",
    "import matplotlib.pyplot as plt\n",
    "from sklearn.feature_selection import SelectKBest, chi2\n",
    "nltk.download('punkt')\n",
    "nltk.download('wordnet')\n",
    "nltk.download('stopwords')"
   ]
  },
  {
   "cell_type": "code",
   "execution_count": 27,
   "id": "6c8c337d",
   "metadata": {},
   "outputs": [],
   "source": [
    "# fetch data from new_train.csv\n",
    "data = pd.read_csv('new_train.csv', header = None)"
   ]
  },
  {
   "cell_type": "code",
   "execution_count": 28,
   "id": "c7919516",
   "metadata": {},
   "outputs": [
    {
     "name": "stdout",
     "output_type": "stream",
     "text": [
      "Eat at Fioris, they said.  Youll like it, they said.\\n\\nis it conveniently located on West Liberty Boulevard, this restaurant features absolutely nowhere to park on the road that is impossible to get to.\\n\\nWhen I called to place our order a miserable sounding me an answer the phone with the side and then said what do you need? I placed our order and he said don't come down here it's going to be at least an hour to we can get to you if my coworkers can do anything right. That was really unprofessional. Some people may think that character but really I don't care what kind of a day the person taking the pizza order is having I just want to place my order without feeling im bothering them,\\n\\nYou should know that you will have to illegally parked your car to pick your order up.  the place was filthy inside and it was packed full of people and total mayhem. I would never ever recommend eating in store even if the place was clean up you're still going to have people waiting to pick three orders of standing right over you. It was also about a hundred degrees in there. They also only take cash with they didn't mention and there was no sign so I was glad I had cash on hand.\\n\\nI knew that something was up with the pizza 13 started leaking through the lid of the pizza as we were driving it home. The bottom and the top rated with grease. How does that even happen? My friend said that's a sign of a great pizza but he is a guy and we have other eating priorities it was disgusting. You're not supposed to take a slice of pizza up out of the pizza box and have all of the toppings slide off due to thebgrease.  the only restaurant that could get away with pizza that greasy is Vincents and they are now gone..you could caulk a bathtub with the cheese that's how rubbery it was. It was disgusting. the red sauce tasted like it was ketchup with sugar added. It was gross I don't understand why anybody likes this restaurant but the poor service and the poor quality of the food is a prime example of a restaurant resting on the laurels of its legacy.\n"
     ]
    }
   ],
   "source": [
    "text_data = data.iloc[:, 1]\n",
    "print(text_data[0])"
   ]
  },
  {
   "cell_type": "markdown",
   "id": "7ad9e411",
   "metadata": {},
   "source": [
    "# Text Preprocessing"
   ]
  },
  {
   "cell_type": "code",
   "execution_count": 29,
   "id": "f588991e",
   "metadata": {},
   "outputs": [],
   "source": [
    "def preprocess_text(text):\n",
    "    text = text.lower() # lower the text\n",
    "    words = word_tokenize(text) # tokenize the text\n",
    "    words = [re.sub(r'[^\\w\\s]', '', word) for word in words] # Removing the punctuations\n",
    "    stop_words = set(stopwords.words('english'))\n",
    "    filtered_words = [word for word in words if word not in stop_words] # Eliminating stop words\n",
    "    lemmatizer = WordNetLemmatizer()\n",
    "    lemmatized_words = [lemmatizer.lemmatize(word) for word in filtered_words] # Lemmatization for the text\n",
    "    lemmatized_words = [word for word in lemmatized_words if word != \"\"]\n",
    "    return \" \".join(lemmatized_words)"
   ]
  },
  {
   "cell_type": "code",
   "execution_count": 30,
   "id": "b62cd433",
   "metadata": {},
   "outputs": [],
   "source": [
    "data[1] = data[1].apply(preprocess_text)"
   ]
  },
  {
   "cell_type": "code",
   "execution_count": 31,
   "id": "553fe760",
   "metadata": {},
   "outputs": [
    {
     "name": "stdout",
     "output_type": "stream",
     "text": [
      "nt understand appeal tried place twice thinking somehow lemon burger first time returned month later nope smoked flavor okay meat seems fresh hell flavor go far saying nt believe even season burger salt pepper closed eye possible would nt even know hamburger embarrassing maybe used eating 99 cent burger sysco meat chain restaurant would find amazing best burger many city u embarrassment pittsburgh go brgr want tasty burger near bloomfield end spectrum side side classic definitely average especially home fry would consider 1 star rating nt additionally place overly crowded long wait weekend decor old school seems satisfied current state like food file one legacy restaurant still living past accolade\n"
     ]
    }
   ],
   "source": [
    "print(data[1][1])"
   ]
  },
  {
   "cell_type": "markdown",
   "id": "3fa2edb2",
   "metadata": {},
   "source": [
    "# TF-IDF "
   ]
  },
  {
   "cell_type": "code",
   "execution_count": 32,
   "id": "edb0a4c2",
   "metadata": {},
   "outputs": [],
   "source": [
    "data = data[data[1].apply(lambda x: len(x) > 0)] # removing the missing data\n",
    "count_vect = CountVectorizer()\n",
    "X = count_vect.fit_transform(data[1]) # count vectorizer to count the frequency of words\n",
    "tf_transformer = TfidfTransformer().fit(X)\n",
    "X_train = tf_transformer.transform(X) # tf-idf calculation\n",
    "Y_train = data[0].values"
   ]
  },
  {
   "cell_type": "code",
   "execution_count": 33,
   "id": "e775e7a7",
   "metadata": {},
   "outputs": [],
   "source": [
    "class KNN:\n",
    "    def __init__(self, k):\n",
    "        self.k = k #initializing k value\n",
    "        \n",
    "    def fit_data(self, X_train, Y_train):\n",
    "        # fitting training and test data\n",
    "        self.X_train = X_train\n",
    "        self.Y_train = Y_train\n",
    "        \n",
    "    def euclidean_distance(self, x, y):\n",
    "        # Euclidean distance calculation\n",
    "        return np.sqrt(np.sum((x - y) ** 2))   \n",
    "    \n",
    "    def manhattan_distance(self, x, y):\n",
    "        # Manhattan distance calculation\n",
    "        return np.sum(np.abs(x - y))  \n",
    "    def cosine_similarity(self, x, y):\n",
    "        #cosine similarity calculation\n",
    "        dot_product = np.dot(x, y)\n",
    "        norm_x = np.linalg.norm(x)\n",
    "        norm_y = np.linalg.norm(y)\n",
    "        cosine_similarity = dot_product / (norm_x * norm_y)\n",
    "        \n",
    "        return cosine_similarity\n",
    "        \n",
    "    def predict_data(self, X):  \n",
    "        y_prediction = [self.prediction(x) for x in X]\n",
    "        return y_prediction\n",
    "    \n",
    "    def find_k_nearest_neighbors(self, distances):\n",
    "        \n",
    "        ''' ***** Finding K nearest labels ***\n",
    "             1) Sorting the distances in descending order\n",
    "             2) Getting first K indices\n",
    "             3) Getting the labels of that indices'''\n",
    "        \n",
    "        sorted_distances = dict(sorted(distances.items(), key=lambda item: -item[1]))\n",
    "        k_nearest_indices = list(sorted_distances.keys())[:self.k]\n",
    "        k_nearest_labels = [self.Y_train[i] for i in k_nearest_indices]\n",
    "        return k_nearest_labels\n",
    "    \n",
    "    def find_y_predicted(self, k_nearest_neighbors):\n",
    "        \n",
    "        ''' **** Predicting the class based on K nearest neighbors **** \n",
    "        \n",
    "             1) Calculating each labels count \n",
    "             2) Find the label with max count '''\n",
    "        \n",
    "        target_class = {1: 0, -1: 0}\n",
    "        for label in k_nearest_neighbors:\n",
    "            target_class[label]+=1\n",
    "            \n",
    "        y_pred = max(target_class, key = target_class.get)\n",
    "        return y_pred\n",
    "    \n",
    "    def prediction(self, x):\n",
    "        \n",
    "        ''' **** Pipeline for KNN **** \n",
    "             1) Finding the distances for each x_test values\n",
    "             2) Find the K - nearest neighbors\n",
    "             3) Predicting the Y label.  '''\n",
    "        distances = {}\n",
    "        for i in range(len(self.X_train)):\n",
    "            # using cosine similarity because it gives best result..\n",
    "            distance = self.cosine_similarity(x, self.X_train[i])\n",
    "            distances[i] = distance\n",
    "            \n",
    "        k_nearest_labels = self.find_k_nearest_neighbors(distances)\n",
    "        y_predicted = self.find_y_predicted(k_nearest_labels)\n",
    "        \n",
    "        return y_predicted\n",
    "            \n",
    "            "
   ]
  },
  {
   "cell_type": "code",
   "execution_count": 34,
   "id": "caca4436",
   "metadata": {},
   "outputs": [],
   "source": [
    "def cross_validation_calculation(predictions, Y_test):\n",
    "    \n",
    "    ''' *** Cross Validation Calculation [Confusion Matrix] *** \n",
    "          1) Finding TF, TN, FP and FN for calculating the accuracy score\n",
    "    '''\n",
    "    TP = TN = FP = FN = 0\n",
    "    for true_label, predicted_label in zip(Y_test, predictions):\n",
    "    # Calculate TP, TN, FP, FN\n",
    "        if true_label == 1 and predicted_label == 1:\n",
    "            TP += 1\n",
    "        elif true_label == -1 and predicted_label == -1:\n",
    "            TN += 1\n",
    "        elif true_label == -1 and predicted_label == 1:\n",
    "            FP += 1\n",
    "        elif true_label == 1 and predicted_label == -1:\n",
    "            FN += 1\n",
    "    return [TP, TN, FP, FN]    \n",
    "        "
   ]
  },
  {
   "cell_type": "code",
   "execution_count": 35,
   "id": "175d1833",
   "metadata": {},
   "outputs": [],
   "source": [
    "def k_fold_cross_validation(X, Y, folds, k):\n",
    "    \n",
    "    ''' *** K- fold selecting code *** '''\n",
    "    \n",
    "    #initailizing the folds\n",
    "    x_train_folds = []\n",
    "    x_test_folds = []\n",
    "    \n",
    "    y_train_folds = []\n",
    "    y_test_folds = []\n",
    "    summ = 0\n",
    "    X, Y = shuffle(X, Y, random_state=42)\n",
    "    fold_size = len(X) // folds # calculating the fold size\n",
    "    for i in range(folds):\n",
    "        #calculating the indexes\n",
    "        start_index = i * fold_size\n",
    "        end_index = (i+1) * fold_size if i < (folds - 1) else len(X)\n",
    "        # fetch and update the values based on the index\n",
    "        x_test_set = X[start_index:end_index]\n",
    "        x_train_set = np.concatenate((X[:start_index], X[end_index:]))\n",
    "        y_test_set = Y[start_index:end_index]\n",
    "        y_train_set = np.concatenate((Y[:start_index], Y[end_index:]))\n",
    "        X_train_fold, X_val_fold = x_train_set, x_test_set\n",
    "        Y_train_fold, Y_val_fold = y_train_set, y_test_set\n",
    "        knn_classifier = KNN(k=k)\n",
    "        knn_classifier.fit_data(X_train_fold, Y_train_fold)\n",
    "        predictions = knn_classifier.predict_data(X_val_fold)\n",
    "        confusion_matrix = cross_validation_calculation(predictions, Y_val_fold)\n",
    "        accuracy_score = (confusion_matrix[0] + confusion_matrix[1]) / (len(Y_val_fold))\n",
    "        summ+=accuracy_score\n",
    "        print(\"k: {} ====== fold index: {} ==== accuracy: {}\".format(k, i, accuracy_score))\n",
    "\n",
    "    print('Avg accuracy', summ/ folds) # calculating average accuracy\n",
    "    return summ/folds"
   ]
  },
  {
   "cell_type": "markdown",
   "id": "c587db6e",
   "metadata": {},
   "source": [
    "# Feature Reduction"
   ]
  },
  {
   "cell_type": "code",
   "execution_count": 36,
   "id": "28c5986e",
   "metadata": {},
   "outputs": [],
   "source": [
    "k_best = SelectKBest(score_func=chi2, k=5000)  # assigning k = 3000 for selecting top 3000 features\n",
    "\n",
    "X_new = k_best.fit_transform(X_train, Y_train) # fit and transform for X_train and Y_train\n",
    "selected_feature_indices = k_best.get_support(indices=True)\n"
   ]
  },
  {
   "cell_type": "code",
   "execution_count": 37,
   "id": "7d31e69c",
   "metadata": {},
   "outputs": [],
   "source": [
    "X_train = X_train.toarray()\n",
    "X_train = X_train[:,selected_feature_indices]"
   ]
  },
  {
   "cell_type": "code",
   "execution_count": 38,
   "id": "7a3a3021",
   "metadata": {},
   "outputs": [
    {
     "name": "stdout",
     "output_type": "stream",
     "text": [
      "5000\n"
     ]
    }
   ],
   "source": [
    "print(len(selected_feature_indices))"
   ]
  },
  {
   "cell_type": "markdown",
   "id": "c711fbcd",
   "metadata": {},
   "source": [
    "# K-fold Cross Validation"
   ]
  },
  {
   "cell_type": "code",
   "execution_count": null,
   "id": "dff5ada1",
   "metadata": {},
   "outputs": [
    {
     "name": "stderr",
     "output_type": "stream",
     "text": [
      "/var/folders/02/5p20n53n5m93n_nfjv_hj42w0000gn/T/ipykernel_60641/2106237748.py:22: RuntimeWarning: invalid value encountered in scalar divide\n",
      "  cosine_similarity = dot_product / (norm_x * norm_y)\n"
     ]
    }
   ],
   "source": [
    "folds = 5\n",
    "k1 = {}\n",
    "for k in range(11,18):\n",
    "    x = k_fold_cross_validation(X_train, Y_train, folds, k)\n",
    "    k1[k] =x"
   ]
  },
  {
   "cell_type": "markdown",
   "id": "ad6cc240",
   "metadata": {},
   "source": [
    "# Plotting K values and the corresponding accuracy"
   ]
  },
  {
   "cell_type": "code",
   "execution_count": 33,
   "id": "8fcb2041",
   "metadata": {},
   "outputs": [
    {
     "data": {
      "image/png": "[encoded data removed]",
      "text/plain": [
       "<Figure size 640x480 with 1 Axes>"
      ]
     },
     "metadata": {},
     "output_type": "display_data"
    }
   ],
   "source": [
    "x_values = list(k1.keys())\n",
    "y_values = list(k1.values())\n",
    "\n",
    "# Create a line chart\n",
    "plt.plot(x_values, y_values, marker='o', linestyle='-')\n",
    "\n",
    "# Add labels and title\n",
    "plt.xlabel('k-values')\n",
    "plt.ylabel('Accuracy')\n",
    "plt.title('Line Chart for K values and Accuracy')\n",
    "\n",
    "# Show the chart\n",
    "plt.show()"
   ]
  },
  {
   "cell_type": "markdown",
   "id": "83633fe4",
   "metadata": {},
   "source": [
    "# Testing"
   ]
  },
  {
   "cell_type": "code",
   "execution_count": 39,
   "id": "4fe91e03",
   "metadata": {},
   "outputs": [],
   "source": [
    "test_data = pd.read_csv('new_test.csv', header = None)"
   ]
  },
  {
   "cell_type": "code",
   "execution_count": 40,
   "id": "96c320a3",
   "metadata": {},
   "outputs": [],
   "source": [
    "test_data[0] = test_data[0].apply(preprocess_text)"
   ]
  },
  {
   "cell_type": "code",
   "execution_count": 41,
   "id": "415cf72e",
   "metadata": {},
   "outputs": [],
   "source": [
    "X_test = count_vect.transform(test_data[0])"
   ]
  },
  {
   "cell_type": "code",
   "execution_count": 42,
   "id": "3c0b587f",
   "metadata": {},
   "outputs": [],
   "source": [
    "X_test_tf = tf_transformer.transform(X_test)"
   ]
  },
  {
   "cell_type": "code",
   "execution_count": 43,
   "id": "901106d8",
   "metadata": {},
   "outputs": [],
   "source": [
    "X_test = X_test_tf.toarray()\n",
    "X_test = X_test[:,selected_feature_indices]"
   ]
  },
  {
   "cell_type": "code",
   "execution_count": 44,
   "id": "65c3e6bc",
   "metadata": {},
   "outputs": [
    {
     "name": "stderr",
     "output_type": "stream",
     "text": [
      "/var/folders/02/5p20n53n5m93n_nfjv_hj42w0000gn/T/ipykernel_89954/221328879.py:22: RuntimeWarning: invalid value encountered in scalar divide\n",
      "  cosine_similarity = dot_product / (norm_x * norm_y)\n"
     ]
    },
    {
     "name": "stdout",
     "output_type": "stream",
     "text": [
      "18000\n"
     ]
    }
   ],
   "source": [
    "knn_classifier = KNN(k=17)\n",
    "knn_classifier.fit_data(X_train, Y_train)\n",
    "predictions = knn_classifier.predict_data(X_test)\n",
    "print(len(predictions))\n",
    "file_name = \"format.txt\"\n",
    "\n",
    "\n",
    "with open(file_name, 'w') as file:\n",
    "    for prediction in predictions:\n",
    "        file.write(str(prediction) + '\\n')\n"
   ]
  },
  {
   "cell_type": "code",
   "execution_count": null,
   "id": "1bc59ba6",
   "metadata": {},
   "outputs": [],
   "source": []
  }
 ],
 "metadata": {
  "kernelspec": {
   "display_name": "Python 3 (ipykernel)",
   "language": "python",
   "name": "python3"
  },
  "language_info": {
   "codemirror_mode": {
    "name": "ipython",
    "version": 3
   },
   "file_extension": ".py",
   "mimetype": "text/x-python",
   "name": "python",
   "nbconvert_exporter": "python",
   "pygments_lexer": "ipython3",
   "version": "3.11.4"
  }
 },
 "nbformat": 4,
 "nbformat_minor": 5
}
